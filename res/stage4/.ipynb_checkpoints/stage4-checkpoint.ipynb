{
 "cells": [
  {
   "cell_type": "markdown",
   "metadata": {},
   "source": [
    "## 0 初始处理"
   ]
  },
  {
   "cell_type": "code",
   "execution_count": 1,
   "metadata": {},
   "outputs": [],
   "source": [
    "import findspark\n",
    "findspark.init()\n",
    "\n",
    "import pyspark\n",
    "from pyspark import SparkContext\n",
    "from pyspark import SparkConf\n",
    "from pyspark import mllib\n",
    "from pyspark.mllib.regression import LabeledPoint\n",
    "from pyspark.mllib.tree import DecisionTree\n",
    "from pyspark.mllib.classification import SVMWithSGD, LogisticRegressionWithSGD, NaiveBayes\n",
    "import pyspark.mllib.evaluation as ev\n",
    "\n",
    "conf = SparkConf().setAppName(\"miniProject\").setMaster(\"local[*]\")\n",
    "sc = SparkContext.getOrCreate(conf)"
   ]
  },
  {
   "cell_type": "code",
   "execution_count": 2,
   "metadata": {},
   "outputs": [],
   "source": [
    "data = sc.textFile(\"train_after.csv\")"
   ]
  },
  {
   "cell_type": "code",
   "execution_count": 3,
   "metadata": {},
   "outputs": [
    {
     "name": "stdout",
     "output_type": "stream",
     "text": [
      "[LabeledPoint(0.0, [362112.0,4.0,1.0,2618.0]), LabeledPoint(0.0, [232320.0,4.0,1.0,1168.0]), LabeledPoint(0.0, [232320.0,4.0,1.0,4270.0]), LabeledPoint(0.0, [36480.0,6.0,1.0,4730.0]), LabeledPoint(0.0, [37248.0,3.0,1.0,2615.0]), LabeledPoint(0.0, [299904.0,6.0,1.0,1742.0]), LabeledPoint(0.0, [104064.0,6.0,1.0,3870.0]), LabeledPoint(0.0, [104064.0,6.0,1.0,669.0]), LabeledPoint(0.0, [105600.0,6.0,1.0,1487.0]), LabeledPoint(0.0, [40320.0,4.0,1.0,4173.0])]\n"
     ]
    }
   ],
   "source": [
    "# 将 RDD 构建为 Mllib 中的模型能够使用的数据格式 LabeledPoint\n",
    "labeled_data = data.map(lambda x: LabeledPoint(x.split(\",\")[-1], x.split(\",\")[:-1]))\n",
    "print(labeled_data.take(10))"
   ]
  },
  {
   "cell_type": "code",
   "execution_count": 4,
   "metadata": {},
   "outputs": [],
   "source": [
    "# 按照 3:1 的比例划分训练集与测试集\n",
    "train, test = labeled_data.randomSplit([0.75, 0.25])"
   ]
  },
  {
   "cell_type": "code",
   "execution_count": 5,
   "metadata": {},
   "outputs": [],
   "source": [
    "# 定义评估函数放在前面，方便后面多种机器学习算法的调用\n",
    "def eva(result):\n",
    "    metrics = ev.BinaryClassificationMetrics(result)\n",
    "    N = result.count()\n",
    "    accuracy = 1.0 * result.filter(lambda p: p[0] == p[1]).count() / N\n",
    "    print(\"【Area Under ROC】{0:.2f}\".format(metrics.areaUnderROC))\n",
    "    print(\"【Area Under PR】{0:.2f}\".format(metrics.areaUnderPR))\n",
    "    print(\"【Accuracy】{0:.2f}\".format(accuracy))"
   ]
  },
  {
   "cell_type": "code",
   "execution_count": 6,
   "metadata": {},
   "outputs": [],
   "source": [
    "# 定义函数用于将预测出来的概率转化为对应 0 或 1 预测值\n",
    "def trans(x):\n",
    "    if x > 0.5:\n",
    "        return 1\n",
    "    else:\n",
    "        return 0"
   ]
  },
  {
   "cell_type": "markdown",
   "metadata": {},
   "source": [
    "## 1 决策树"
   ]
  },
  {
   "cell_type": "code",
   "execution_count": 7,
   "metadata": {},
   "outputs": [
    {
     "name": "stdout",
     "output_type": "stream",
     "text": [
      "[0.04611837048424289, 0.08620689655172414, 0.06111111111111111, 0.08288770053475936, 0.032148900169204735, 0.08620689655172414, 0.04611837048424289, 0.04611837048424289, 0.04611837048424289, 0.032148900169204735]\n",
      "[(0.0, 0.0), (0.0, 0.0), (0.0, 0.0), (0.0, 0.0), (0.0, 1.0), (0.0, 0.0), (0.0, 0.0), (0.0, 0.0), (0.0, 0.0), (0.0, 0.0)]\n"
     ]
    }
   ],
   "source": [
    "# 构造决策树模型并进行训练\n",
    "model_1 = DecisionTree.trainRegressor(train, {})\n",
    "\n",
    "# 得到预测结果\n",
    "y_pred_1 = model_1.predict(test.map(lambda row: row.features))\n",
    "print(y_pred_1.take(10))\n",
    "\n",
    "# 将概率转换为对应的 0 或 1\n",
    "y_pred_1 = y_pred_1.map(lambda x: float(trans(x)))\n",
    "\n",
    "# 提取真实值\n",
    "y_ture = test.map(lambda row: row.label)\n",
    "\n",
    "# 将真实值与预测值进行配对\n",
    "result_1 = y_pred_1.zip(y_ture)\n",
    "print(result_1.take(10))"
   ]
  },
  {
   "cell_type": "code",
   "execution_count": 8,
   "metadata": {},
   "outputs": [
    {
     "name": "stdout",
     "output_type": "stream",
     "text": [
      "【Area Under ROC】0.50\n",
      "【Area Under PR】0.03\n",
      "【Accuracy】0.94\n"
     ]
    }
   ],
   "source": [
    "# 输出评估结果\n",
    "eva(result_1)"
   ]
  },
  {
   "cell_type": "markdown",
   "metadata": {},
   "source": [
    "## 2 支持向量机SVM"
   ]
  },
  {
   "cell_type": "code",
   "execution_count": 9,
   "metadata": {},
   "outputs": [
    {
     "name": "stdout",
     "output_type": "stream",
     "text": [
      "[(0.0, 0.0), (0.0, 0.0), (0.0, 0.0), (0.0, 0.0), (0.0, 1.0), (0.0, 0.0), (0.0, 0.0), (0.0, 0.0), (0.0, 0.0), (0.0, 0.0)]\n"
     ]
    }
   ],
   "source": [
    "# 构造 SVM 模型并进行训练，其中设置迭代次数为 1000\n",
    "numIterations = 1000\n",
    "model_2 = SVMWithSGD.train(train, numIterations)\n",
    "\n",
    "# 得到预测结果\n",
    "y_pred_2 = model_2.predict(test.map(lambda row: row.features)).map(lambda x: float(x))\n",
    "\n",
    "# 将真实值与预测值进行配对\n",
    "result_2 = y_pred_2.zip(y_ture)\n",
    "print(result_2.take(10))"
   ]
  },
  {
   "cell_type": "code",
   "execution_count": 10,
   "metadata": {},
   "outputs": [
    {
     "name": "stdout",
     "output_type": "stream",
     "text": [
      "【Area Under ROC】0.50\n",
      "【Area Under PR】0.06\n",
      "【Accuracy】0.94\n"
     ]
    }
   ],
   "source": [
    "# 输出评估结果\n",
    "eva(result_2)"
   ]
  },
  {
   "cell_type": "markdown",
   "metadata": {},
   "source": [
    "## 3 LogisticRegression"
   ]
  },
  {
   "cell_type": "code",
   "execution_count": 11,
   "metadata": {},
   "outputs": [
    {
     "name": "stdout",
     "output_type": "stream",
     "text": [
      "[(0.0, 0.0), (0.0, 0.0), (0.0, 0.0), (0.0, 0.0), (0.0, 1.0), (0.0, 0.0), (0.0, 0.0), (0.0, 0.0), (0.0, 0.0), (0.0, 0.0)]\n"
     ]
    }
   ],
   "source": [
    "# 构造 LogisticRegression 模型并进行训练，其中设置迭代次数为 100\n",
    "numIterations = 10\n",
    "model_3 = LogisticRegressionWithSGD.train(train, numIterations)\n",
    "\n",
    "# 得到预测结果\n",
    "y_pred_3 = model_3.predict(test.map(lambda row: row.features)).map(lambda x: float(x))\n",
    "\n",
    "# 将真实值与预测值进行配对\n",
    "result_3 = y_pred_3.zip(y_ture)\n",
    "print(result_3.take(10))"
   ]
  },
  {
   "cell_type": "code",
   "execution_count": 12,
   "metadata": {},
   "outputs": [
    {
     "name": "stdout",
     "output_type": "stream",
     "text": [
      "【Area Under ROC】0.50\n",
      "【Area Under PR】0.06\n",
      "【Accuracy】0.94\n"
     ]
    }
   ],
   "source": [
    "# 输出评估结果\n",
    "eva(result_3)"
   ]
  },
  {
   "cell_type": "markdown",
   "metadata": {},
   "source": [
    "## 4 朴素贝叶斯"
   ]
  },
  {
   "cell_type": "code",
   "execution_count": 13,
   "metadata": {},
   "outputs": [
    {
     "name": "stdout",
     "output_type": "stream",
     "text": [
      "[(0.0, 0.0), (1.0, 0.0), (1.0, 0.0), (0.0, 0.0), (1.0, 1.0), (1.0, 0.0), (0.0, 0.0), (1.0, 0.0), (0.0, 0.0), (1.0, 0.0)]\n"
     ]
    }
   ],
   "source": [
    "# 构造贝叶斯模型并进行训练\n",
    "model_4 = NaiveBayes.train(train, 1.0)\n",
    "\n",
    "# 得到预测结果\n",
    "y_pred_4 = model_4.predict(test.map(lambda row: row.features)).map(lambda x: float(x))\n",
    "\n",
    "# 将真实值与预测值进行配对\n",
    "result_4 = y_pred_4.zip(y_ture)\n",
    "print(result_4.take(10))"
   ]
  },
  {
   "cell_type": "code",
   "execution_count": 14,
   "metadata": {},
   "outputs": [
    {
     "name": "stdout",
     "output_type": "stream",
     "text": [
      "【Area Under ROC】0.51\n",
      "【Area Under PR】0.07\n",
      "【Accuracy】0.55\n"
     ]
    }
   ],
   "source": [
    "# 输出评估结果\n",
    "eva(result_4)"
   ]
  }
 ],
 "metadata": {
  "kernelspec": {
   "display_name": "Python 3",
   "language": "python",
   "name": "python3"
  },
  "language_info": {
   "codemirror_mode": {
    "name": "ipython",
    "version": 3
   },
   "file_extension": ".py",
   "mimetype": "text/x-python",
   "name": "python",
   "nbconvert_exporter": "python",
   "pygments_lexer": "ipython3",
   "version": "3.6.3"
  }
 },
 "nbformat": 4,
 "nbformat_minor": 2
}
